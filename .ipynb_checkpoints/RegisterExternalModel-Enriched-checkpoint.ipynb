{
 "cells": [
  {
   "cell_type": "code",
   "execution_count": 2,
   "id": "386e229c",
   "metadata": {},
   "outputs": [],
   "source": [
    "#\n",
    "# Register ChatGPT endpoint\n",
    "#\n",
    "import os\n",
    "import mlflow\n",
    "import mlflow.pyfunc\n",
    "import requests\n",
    "\n",
    "import pandas as pd\n",
    "import requests\n",
    "import mlflow.pyfunc\n",
    "\n",
    "# Define the endpoint details\n",
    "endpoint_url = \"https://api.openai.com/v1/chat/completions\"\n",
    "api_key = os.environ['OPENAI_API_KEY']  #\"<your_openai_api_key>\"\n",
    "\n",
    "\n",
    "class ChatGPTModelWrapper(mlflow.pyfunc.PythonModel):\n",
    "    def __init__(self, endpoint_url, api_key):\n",
    "        self.endpoint_url = endpoint_url\n",
    "        self.api_key = api_key\n",
    "\n",
    "    def predict(self, context, model_input):\n",
    "        # Convert input to a list of strings (assumes DataFrame or Series input)\n",
    "        if isinstance(model_input, pd.DataFrame):\n",
    "            messages = model_input.iloc[:, 0].tolist()\n",
    "        elif isinstance(model_input, pd.Series):\n",
    "            messages = model_input.tolist()\n",
    "        elif isinstance(model_input, list):\n",
    "            messages = model_input\n",
    "        else:\n",
    "            raise ValueError(\"Unsupported input format for model_input\")\n",
    "\n",
    "        headers = {\n",
    "            \"Authorization\": f\"Bearer {self.api_key}\",\n",
    "            \"Content-Type\": \"application/json\",\n",
    "        }\n",
    "        payload = {\n",
    "            \"model\": \"gpt-4\",\n",
    "            \"messages\": [{\"role\": \"user\", \"content\": message} for message in messages],\n",
    "        }\n",
    "        response = requests.post(self.endpoint_url, headers=headers, json=payload)\n",
    "        \n",
    "        # Raise an error for bad HTTP responses\n",
    "        response.raise_for_status()\n",
    "\n",
    "        # Extract the API response\n",
    "        return [choice[\"message\"][\"content\"] for choice in response.json()[\"choices\"]]"
   ]
  },
  {
   "cell_type": "code",
   "execution_count": 3,
   "id": "0fe65edd",
   "metadata": {},
   "outputs": [],
   "source": [
    "# Save the wrapped model to a local directory\n",
    "model_path = \"chatgpt_model2\"\n",
    "mlflow.pyfunc.save_model(\n",
    "    path=model_path,\n",
    "    python_model=ChatGPTModelWrapper(endpoint_url, api_key),\n",
    ")"
   ]
  },
  {
   "cell_type": "code",
   "execution_count": 5,
   "id": "b19138d3",
   "metadata": {},
   "outputs": [
    {
     "name": "stderr",
     "output_type": "stream",
     "text": [
      "Successfully registered model 'ChatGPT_Model2'.\n",
      "2025/01/30 14:16:02 INFO mlflow.store.model_registry.abstract_store: Waiting up to 300 seconds for model version to finish creation. Model name: ChatGPT_Model2, version 1\n",
      "Created version '1' of model 'ChatGPT_Model2'.\n"
     ]
    },
    {
     "data": {
      "application/vnd.jupyter.widget-view+json": {
       "model_id": "3cb03b49e3054fb0a0b4aed1e1d96893",
       "version_major": 2,
       "version_minor": 0
      },
      "text/plain": [
       "Downloading artifacts:   0%|          | 0/7 [00:00<?, ?it/s]"
      ]
     },
     "metadata": {},
     "output_type": "display_data"
    },
    {
     "name": "stderr",
     "output_type": "stream",
     "text": [
      "/tmp/ipykernel_408/1366115170.py:69: FutureWarning: ``mlflow.tracking.client.MlflowClient.get_latest_versions`` is deprecated since 2.9.0. Model registry stages will be removed in a future major release. To learn more about the deprecation of model registry stages, see our migration guide here: https://mlflow.org/docs/latest/model-registry.html#migrating-from-stages\n",
      "  model_version = client.get_latest_versions(name=registered_name, stages=[\"None\"])[0].version\n",
      "2025/01/30 14:16:07 INFO mlflow.tracking._tracking_service.client: 🏃 View run serious-ant-688 at: http://127.0.0.1:8768/#/experiments/17/runs/af8771112fd6482aa79f98080353fa8c.\n",
      "2025/01/30 14:16:07 INFO mlflow.tracking._tracking_service.client: 🧪 View experiment at: http://127.0.0.1:8768/#/experiments/17.\n"
     ]
    }
   ],
   "source": [
    "# Example metrics and tags\n",
    "\n",
    "metrics = {\n",
    "    \"accuracy\": 0.94,\n",
    "    \"bleu_score\": 0.85,\n",
    "    \"rouge_l\": 0.72,\n",
    "    \"perplexity\": 15.2,\n",
    "    \"inference_time_per_token\": 0.004,\n",
    "    \"win_rate_against_baseline\": 0.78,\n",
    "    \"toxicity_rate\": 0.02,\n",
    "    \"hallucination_rate\": 0.08,\n",
    "    \"engagement_score\": 4.7\n",
    "}\n",
    "\n",
    "parameters = {\n",
    "    \"model_size\": \"40B\",\n",
    "    \"batch_size\": 64,\n",
    "    \"learning_rate\": 5e-5,\n",
    "    \"max_tokens\": 1024,\n",
    "    \"training_data_size\": \"570GB\",\n",
    "    \"optimizer\": \"AdamW\",\n",
    "    \"dropout_rate\": 0.1\n",
    "}\n",
    "\n",
    "tags = {\n",
    "    \"model_type\": \"ChatGPT\",\n",
    "    \"developer\": \"Ahmet Gyger\",\n",
    "    \"use_case\": \"Text Summarization\",\n",
    "    \"version\": \"v3.0\"\n",
    "}\n",
    "\n",
    "# Log and register the model\n",
    "with mlflow.start_run() as run:\n",
    "    registered_name=f\"ChatGPT_Model2\"\n",
    "#    registered_name=f\"ChatGPT_Model2{formatted_time}\"\n",
    "    \n",
    "    # Log metrics\n",
    "    for key, value in metrics.items():\n",
    "        mlflow.log_metric(key, value)\n",
    "        \n",
    "    # Log parameters\n",
    "    for key, value in parameters.items():\n",
    "        mlflow.log_param(key, value)\n",
    "\n",
    "    \n",
    "    mlflow.pyfunc.log_model(\n",
    "        artifact_path=model_path,\n",
    "        python_model=ChatGPTModelWrapper(endpoint_url, api_key),\n",
    "        registered_model_name=registered_name,\n",
    "        input_example=pd.DataFrame([\"Hello, how are you?\"], columns=[\"prompt\"])\n",
    "    )\n",
    "\n",
    "    \n",
    "    # Use MLflow Client to set registered model tags\n",
    "    client = mlflow.tracking.MlflowClient()\n",
    "    client.set_registered_model_tag(\n",
    "        name=registered_name,\n",
    "        key=\"use_case\",\n",
    "        value=\"ChatGPT automated predictions\"\n",
    "    )\n",
    "    client.set_registered_model_tag(\n",
    "        name=registered_name,\n",
    "        key=\"priority\",\n",
    "        value=\"high\"\n",
    "    )\n",
    "    \n",
    "    \n",
    "    # Get the latest model version\n",
    "    model_version = client.get_latest_versions(name=registered_name, stages=[\"None\"])[0].version\n",
    "\n",
    "    # Set tags for the specific model version\n",
    "    for key, value in tags.items():\n",
    "        client.set_model_version_tag(\n",
    "            name=registered_name,  \n",
    "            version=model_version,\n",
    "            key=key,  \n",
    "            value=value  \n",
    "        )\n",
    "\n",
    "# Log and register the model\n",
    "#with mlflow.start_run() as run:\n",
    "#    mlflow.pyfunc.log_model(\n",
    "#        artifact_path=\"chatgpt_model2\",\n",
    "#        python_model=ChatGPTModelWrapper(endpoint_url, api_key),\n",
    "#        registered_model_name=\"ChatGPT_Model2\",\n",
    "#    )"
   ]
  },
  {
   "cell_type": "code",
   "execution_count": 6,
   "id": "902bfd29",
   "metadata": {},
   "outputs": [
    {
     "name": "stderr",
     "output_type": "stream",
     "text": [
      "/opt/conda/lib/python3.10/site-packages/mlflow/store/artifact/utils/models.py:31: FutureWarning: ``mlflow.tracking.client.MlflowClient.get_latest_versions`` is deprecated since 2.9.0. Model registry stages will be removed in a future major release. To learn more about the deprecation of model registry stages, see our migration guide here: https://mlflow.org/docs/latest/model-registry.html#migrating-from-stages\n",
      "  latest = client.get_latest_versions(name, None if stage is None else [stage])\n"
     ]
    },
    {
     "data": {
      "application/vnd.jupyter.widget-view+json": {
       "model_id": "9cd71fc0403241a1be35f290606d4830",
       "version_major": 2,
       "version_minor": 0
      },
      "text/plain": [
       "Downloading artifacts:   0%|          | 0/7 [00:00<?, ?it/s]"
      ]
     },
     "metadata": {},
     "output_type": "display_data"
    },
    {
     "name": "stdout",
     "output_type": "stream",
     "text": [
      "[\"As an artificial intelligence, I don't have feelings, but I'm ready and able to assist you. How can I help you today?\"]\n"
     ]
    }
   ],
   "source": [
    "import mlflow.pyfunc\n",
    "import pandas as pd\n",
    "\n",
    "# Load the registered model\n",
    "model = mlflow.pyfunc.load_model(\"models:/ChatGPT_Model2/latest\")\n",
    "\n",
    "# Test predictions\n",
    "input_data = pd.DataFrame([\"Hello, how are you?\"], columns=[\"prompt\"])\n",
    "result = model.predict(input_data)\n",
    "print(result)"
   ]
  },
  {
   "cell_type": "code",
   "execution_count": null,
   "id": "9450d440-18f7-4ccc-9970-a34fbcb55db6",
   "metadata": {},
   "outputs": [],
   "source": []
  }
 ],
 "metadata": {
  "kernelspec": {
   "display_name": "Python 3 (ipykernel)",
   "language": "python",
   "name": "python3"
  },
  "language_info": {
   "codemirror_mode": {
    "name": "ipython",
    "version": 3
   },
   "file_extension": ".py",
   "mimetype": "text/x-python",
   "name": "python",
   "nbconvert_exporter": "python",
   "pygments_lexer": "ipython3",
   "version": "3.10.14"
  }
 },
 "nbformat": 4,
 "nbformat_minor": 5
}
