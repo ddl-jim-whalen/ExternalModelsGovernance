{
 "cells": [
  {
   "cell_type": "code",
   "execution_count": null,
   "id": "ea60d27e",
   "metadata": {},
   "outputs": [],
   "source": [
    "\n"
   ]
  },
  {
   "cell_type": "code",
   "execution_count": 1,
   "id": "e76bd47c",
   "metadata": {},
   "outputs": [
    {
     "ename": "RestException",
     "evalue": "INVALID_PARAMETER_VALUE: Missing value for required parameter 'source'. See the API docs for more information about request parameters.",
     "output_type": "error",
     "traceback": [
      "\u001b[0;31m---------------------------------------------------------------------------\u001b[0m",
      "\u001b[0;31mRestException\u001b[0m                             Traceback (most recent call last)",
      "Cell \u001b[0;32mIn[1], line 11\u001b[0m\n\u001b[1;32m      8\u001b[0m model_details \u001b[38;5;241m=\u001b[39m client\u001b[38;5;241m.\u001b[39mcreate_registered_model(name\u001b[38;5;241m=\u001b[39m\u001b[38;5;124m\"\u001b[39m\u001b[38;5;124mShell1\u001b[39m\u001b[38;5;124m\"\u001b[39m)\n\u001b[1;32m     10\u001b[0m \u001b[38;5;66;03m# Create a new version of the registered model pointing to the external URI\u001b[39;00m\n\u001b[0;32m---> 11\u001b[0m \u001b[43mclient\u001b[49m\u001b[38;5;241;43m.\u001b[39;49m\u001b[43mcreate_model_version\u001b[49m\u001b[43m(\u001b[49m\u001b[43mname\u001b[49m\u001b[38;5;241;43m=\u001b[39;49m\u001b[38;5;124;43m\"\u001b[39;49m\u001b[38;5;124;43mShell1\u001b[39;49m\u001b[38;5;124;43m\"\u001b[39;49m\u001b[43m,\u001b[49m\u001b[43m \u001b[49m\u001b[43msource\u001b[49m\u001b[38;5;241;43m=\u001b[39;49m\u001b[38;5;124;43m'\u001b[39;49m\u001b[38;5;124;43m'\u001b[39;49m\u001b[43m,\u001b[49m\u001b[43m \u001b[49m\u001b[43mrun_id\u001b[49m\u001b[38;5;241;43m=\u001b[39;49m\u001b[38;5;28;43;01mNone\u001b[39;49;00m\u001b[43m)\u001b[49m\n\u001b[1;32m     13\u001b[0m \u001b[38;5;28mprint\u001b[39m(\u001b[38;5;124mf\u001b[39m\u001b[38;5;124m\"\u001b[39m\u001b[38;5;124mModel version registered: \u001b[39m\u001b[38;5;132;01m{\u001b[39;00mmodel_details\u001b[38;5;132;01m}\u001b[39;00m\u001b[38;5;124m\"\u001b[39m)\n",
      "File \u001b[0;32m/opt/conda/lib/python3.10/site-packages/mlflow/tracking/client.py:3710\u001b[0m, in \u001b[0;36mMlflowClient.create_model_version\u001b[0;34m(self, name, source, run_id, tags, run_link, description, await_creation_for)\u001b[0m\n\u001b[1;32m   3632\u001b[0m \u001b[38;5;28;01mdef\u001b[39;00m \u001b[38;5;21mcreate_model_version\u001b[39m(\n\u001b[1;32m   3633\u001b[0m     \u001b[38;5;28mself\u001b[39m,\n\u001b[1;32m   3634\u001b[0m     name: \u001b[38;5;28mstr\u001b[39m,\n\u001b[0;32m   (...)\u001b[0m\n\u001b[1;32m   3640\u001b[0m     await_creation_for: \u001b[38;5;28mint\u001b[39m \u001b[38;5;241m=\u001b[39m DEFAULT_AWAIT_MAX_SLEEP_SECONDS,\n\u001b[1;32m   3641\u001b[0m ) \u001b[38;5;241m-\u001b[39m\u001b[38;5;241m>\u001b[39m ModelVersion:\n\u001b[1;32m   3642\u001b[0m \u001b[38;5;250m    \u001b[39m\u001b[38;5;124;03m\"\"\"\u001b[39;00m\n\u001b[1;32m   3643\u001b[0m \u001b[38;5;124;03m    Create a new model version from given source.\u001b[39;00m\n\u001b[1;32m   3644\u001b[0m \n\u001b[0;32m   (...)\u001b[0m\n\u001b[1;32m   3708\u001b[0m \u001b[38;5;124;03m        Stage: None\u001b[39;00m\n\u001b[1;32m   3709\u001b[0m \u001b[38;5;124;03m    \"\"\"\u001b[39;00m\n\u001b[0;32m-> 3710\u001b[0m     \u001b[38;5;28;01mreturn\u001b[39;00m \u001b[38;5;28;43mself\u001b[39;49m\u001b[38;5;241;43m.\u001b[39;49m\u001b[43m_create_model_version\u001b[49m\u001b[43m(\u001b[49m\n\u001b[1;32m   3711\u001b[0m \u001b[43m        \u001b[49m\u001b[43mname\u001b[49m\u001b[38;5;241;43m=\u001b[39;49m\u001b[43mname\u001b[49m\u001b[43m,\u001b[49m\n\u001b[1;32m   3712\u001b[0m \u001b[43m        \u001b[49m\u001b[43msource\u001b[49m\u001b[38;5;241;43m=\u001b[39;49m\u001b[43msource\u001b[49m\u001b[43m,\u001b[49m\n\u001b[1;32m   3713\u001b[0m \u001b[43m        \u001b[49m\u001b[43mrun_id\u001b[49m\u001b[38;5;241;43m=\u001b[39;49m\u001b[43mrun_id\u001b[49m\u001b[43m,\u001b[49m\n\u001b[1;32m   3714\u001b[0m \u001b[43m        \u001b[49m\u001b[43mtags\u001b[49m\u001b[38;5;241;43m=\u001b[39;49m\u001b[43mtags\u001b[49m\u001b[43m,\u001b[49m\n\u001b[1;32m   3715\u001b[0m \u001b[43m        \u001b[49m\u001b[43mrun_link\u001b[49m\u001b[38;5;241;43m=\u001b[39;49m\u001b[43mrun_link\u001b[49m\u001b[43m,\u001b[49m\n\u001b[1;32m   3716\u001b[0m \u001b[43m        \u001b[49m\u001b[43mdescription\u001b[49m\u001b[38;5;241;43m=\u001b[39;49m\u001b[43mdescription\u001b[49m\u001b[43m,\u001b[49m\n\u001b[1;32m   3717\u001b[0m \u001b[43m        \u001b[49m\u001b[43mawait_creation_for\u001b[49m\u001b[38;5;241;43m=\u001b[39;49m\u001b[43mawait_creation_for\u001b[49m\u001b[43m,\u001b[49m\n\u001b[1;32m   3718\u001b[0m \u001b[43m    \u001b[49m\u001b[43m)\u001b[49m\n",
      "File \u001b[0;32m/opt/conda/lib/python3.10/site-packages/mlflow/tracking/client.py:3621\u001b[0m, in \u001b[0;36mMlflowClient._create_model_version\u001b[0;34m(self, name, source, run_id, tags, run_link, description, await_creation_for, local_model_path)\u001b[0m\n\u001b[1;32m   3613\u001b[0m     \u001b[38;5;66;03m# NOTE: we can't easily delete the target temp location due to the async nature\u001b[39;00m\n\u001b[1;32m   3614\u001b[0m     \u001b[38;5;66;03m# of the model version creation - printing to let the user know.\u001b[39;00m\n\u001b[1;32m   3615\u001b[0m     eprint(\n\u001b[1;32m   3616\u001b[0m         \u001b[38;5;124mf\u001b[39m\u001b[38;5;124m\"\u001b[39m\u001b[38;5;124m=== Source model files were copied to \u001b[39m\u001b[38;5;132;01m{\u001b[39;00mnew_source\u001b[38;5;132;01m}\u001b[39;00m\u001b[38;5;124m\"\u001b[39m\n\u001b[1;32m   3617\u001b[0m         \u001b[38;5;241m+\u001b[39m \u001b[38;5;124m\"\u001b[39m\u001b[38;5;124m in the model registry workspace. You may want to delete the files once the\u001b[39m\u001b[38;5;124m\"\u001b[39m\n\u001b[1;32m   3618\u001b[0m         \u001b[38;5;241m+\u001b[39m \u001b[38;5;124m\"\u001b[39m\u001b[38;5;124m model version is in \u001b[39m\u001b[38;5;124m'\u001b[39m\u001b[38;5;124mREADY\u001b[39m\u001b[38;5;124m'\u001b[39m\u001b[38;5;124m status. You can also find this location in the\u001b[39m\u001b[38;5;124m\"\u001b[39m\n\u001b[1;32m   3619\u001b[0m         \u001b[38;5;241m+\u001b[39m \u001b[38;5;124m\"\u001b[39m\u001b[38;5;124m `source` field of the created model version. ===\u001b[39m\u001b[38;5;124m\"\u001b[39m\n\u001b[1;32m   3620\u001b[0m     )\n\u001b[0;32m-> 3621\u001b[0m \u001b[38;5;28;01mreturn\u001b[39;00m \u001b[38;5;28;43mself\u001b[39;49m\u001b[38;5;241;43m.\u001b[39;49m\u001b[43m_get_registry_client\u001b[49m\u001b[43m(\u001b[49m\u001b[43m)\u001b[49m\u001b[38;5;241;43m.\u001b[39;49m\u001b[43mcreate_model_version\u001b[49m\u001b[43m(\u001b[49m\n\u001b[1;32m   3622\u001b[0m \u001b[43m    \u001b[49m\u001b[43mname\u001b[49m\u001b[38;5;241;43m=\u001b[39;49m\u001b[43mname\u001b[49m\u001b[43m,\u001b[49m\n\u001b[1;32m   3623\u001b[0m \u001b[43m    \u001b[49m\u001b[43msource\u001b[49m\u001b[38;5;241;43m=\u001b[39;49m\u001b[43mnew_source\u001b[49m\u001b[43m,\u001b[49m\n\u001b[1;32m   3624\u001b[0m \u001b[43m    \u001b[49m\u001b[43mrun_id\u001b[49m\u001b[38;5;241;43m=\u001b[39;49m\u001b[43mrun_id\u001b[49m\u001b[43m,\u001b[49m\n\u001b[1;32m   3625\u001b[0m \u001b[43m    \u001b[49m\u001b[43mtags\u001b[49m\u001b[38;5;241;43m=\u001b[39;49m\u001b[43mtags\u001b[49m\u001b[43m,\u001b[49m\n\u001b[1;32m   3626\u001b[0m \u001b[43m    \u001b[49m\u001b[43mrun_link\u001b[49m\u001b[38;5;241;43m=\u001b[39;49m\u001b[43mrun_link\u001b[49m\u001b[43m,\u001b[49m\n\u001b[1;32m   3627\u001b[0m \u001b[43m    \u001b[49m\u001b[43mdescription\u001b[49m\u001b[38;5;241;43m=\u001b[39;49m\u001b[43mdescription\u001b[49m\u001b[43m,\u001b[49m\n\u001b[1;32m   3628\u001b[0m \u001b[43m    \u001b[49m\u001b[43mawait_creation_for\u001b[49m\u001b[38;5;241;43m=\u001b[39;49m\u001b[43mawait_creation_for\u001b[49m\u001b[43m,\u001b[49m\n\u001b[1;32m   3629\u001b[0m \u001b[43m    \u001b[49m\u001b[43mlocal_model_path\u001b[49m\u001b[38;5;241;43m=\u001b[39;49m\u001b[43mlocal_model_path\u001b[49m\u001b[43m,\u001b[49m\n\u001b[1;32m   3630\u001b[0m \u001b[43m\u001b[49m\u001b[43m)\u001b[49m\n",
      "File \u001b[0;32m/opt/conda/lib/python3.10/site-packages/mlflow/tracking/_model_registry/client.py:215\u001b[0m, in \u001b[0;36mModelRegistryClient.create_model_version\u001b[0;34m(self, name, source, run_id, tags, run_link, description, await_creation_for, local_model_path)\u001b[0m\n\u001b[1;32m    213\u001b[0m arg_names \u001b[38;5;241m=\u001b[39m _get_arg_names(\u001b[38;5;28mself\u001b[39m\u001b[38;5;241m.\u001b[39mstore\u001b[38;5;241m.\u001b[39mcreate_model_version)\n\u001b[1;32m    214\u001b[0m \u001b[38;5;28;01mif\u001b[39;00m \u001b[38;5;124m\"\u001b[39m\u001b[38;5;124mlocal_model_path\u001b[39m\u001b[38;5;124m\"\u001b[39m \u001b[38;5;129;01min\u001b[39;00m arg_names:\n\u001b[0;32m--> 215\u001b[0m     mv \u001b[38;5;241m=\u001b[39m \u001b[38;5;28;43mself\u001b[39;49m\u001b[38;5;241;43m.\u001b[39;49m\u001b[43mstore\u001b[49m\u001b[38;5;241;43m.\u001b[39;49m\u001b[43mcreate_model_version\u001b[49m\u001b[43m(\u001b[49m\n\u001b[1;32m    216\u001b[0m \u001b[43m        \u001b[49m\u001b[43mname\u001b[49m\u001b[43m,\u001b[49m\n\u001b[1;32m    217\u001b[0m \u001b[43m        \u001b[49m\u001b[43msource\u001b[49m\u001b[43m,\u001b[49m\n\u001b[1;32m    218\u001b[0m \u001b[43m        \u001b[49m\u001b[43mrun_id\u001b[49m\u001b[43m,\u001b[49m\n\u001b[1;32m    219\u001b[0m \u001b[43m        \u001b[49m\u001b[43mtags\u001b[49m\u001b[43m,\u001b[49m\n\u001b[1;32m    220\u001b[0m \u001b[43m        \u001b[49m\u001b[43mrun_link\u001b[49m\u001b[43m,\u001b[49m\n\u001b[1;32m    221\u001b[0m \u001b[43m        \u001b[49m\u001b[43mdescription\u001b[49m\u001b[43m,\u001b[49m\n\u001b[1;32m    222\u001b[0m \u001b[43m        \u001b[49m\u001b[43mlocal_model_path\u001b[49m\u001b[38;5;241;43m=\u001b[39;49m\u001b[43mlocal_model_path\u001b[49m\u001b[43m,\u001b[49m\n\u001b[1;32m    223\u001b[0m \u001b[43m    \u001b[49m\u001b[43m)\u001b[49m\n\u001b[1;32m    224\u001b[0m \u001b[38;5;28;01melse\u001b[39;00m:\n\u001b[1;32m    225\u001b[0m     \u001b[38;5;66;03m# Fall back to calling create_model_version without\u001b[39;00m\n\u001b[1;32m    226\u001b[0m     \u001b[38;5;66;03m# local_model_path since old model registry store implementations may not\u001b[39;00m\n\u001b[1;32m    227\u001b[0m     \u001b[38;5;66;03m# support the local_model_path argument.\u001b[39;00m\n\u001b[1;32m    228\u001b[0m     mv \u001b[38;5;241m=\u001b[39m \u001b[38;5;28mself\u001b[39m\u001b[38;5;241m.\u001b[39mstore\u001b[38;5;241m.\u001b[39mcreate_model_version(name, source, run_id, tags, run_link, description)\n",
      "File \u001b[0;32m/opt/conda/lib/python3.10/site-packages/mlflow/store/model_registry/rest_store.py:267\u001b[0m, in \u001b[0;36mRestStore.create_model_version\u001b[0;34m(self, name, source, run_id, tags, run_link, description, local_model_path)\u001b[0m\n\u001b[1;32m    256\u001b[0m proto_tags \u001b[38;5;241m=\u001b[39m [tag\u001b[38;5;241m.\u001b[39mto_proto() \u001b[38;5;28;01mfor\u001b[39;00m tag \u001b[38;5;129;01min\u001b[39;00m tags \u001b[38;5;129;01mor\u001b[39;00m []]\n\u001b[1;32m    257\u001b[0m req_body \u001b[38;5;241m=\u001b[39m message_to_json(\n\u001b[1;32m    258\u001b[0m     CreateModelVersion(\n\u001b[1;32m    259\u001b[0m         name\u001b[38;5;241m=\u001b[39mname,\n\u001b[0;32m   (...)\u001b[0m\n\u001b[1;32m    265\u001b[0m     )\n\u001b[1;32m    266\u001b[0m )\n\u001b[0;32m--> 267\u001b[0m response_proto \u001b[38;5;241m=\u001b[39m \u001b[38;5;28;43mself\u001b[39;49m\u001b[38;5;241;43m.\u001b[39;49m\u001b[43m_call_endpoint\u001b[49m\u001b[43m(\u001b[49m\u001b[43mCreateModelVersion\u001b[49m\u001b[43m,\u001b[49m\u001b[43m \u001b[49m\u001b[43mreq_body\u001b[49m\u001b[43m)\u001b[49m\n\u001b[1;32m    268\u001b[0m \u001b[38;5;28;01mreturn\u001b[39;00m ModelVersion\u001b[38;5;241m.\u001b[39mfrom_proto(response_proto\u001b[38;5;241m.\u001b[39mmodel_version)\n",
      "File \u001b[0;32m/opt/conda/lib/python3.10/site-packages/mlflow/store/model_registry/base_rest_store.py:44\u001b[0m, in \u001b[0;36mBaseRestStore._call_endpoint\u001b[0;34m(self, api, json_body, call_all_endpoints, extra_headers)\u001b[0m\n\u001b[1;32m     42\u001b[0m \u001b[38;5;28;01melse\u001b[39;00m:\n\u001b[1;32m     43\u001b[0m     endpoint, method \u001b[38;5;241m=\u001b[39m \u001b[38;5;28mself\u001b[39m\u001b[38;5;241m.\u001b[39m_get_endpoint_from_method(api)\n\u001b[0;32m---> 44\u001b[0m     \u001b[38;5;28;01mreturn\u001b[39;00m \u001b[43mcall_endpoint\u001b[49m\u001b[43m(\u001b[49m\n\u001b[1;32m     45\u001b[0m \u001b[43m        \u001b[49m\u001b[38;5;28;43mself\u001b[39;49m\u001b[38;5;241;43m.\u001b[39;49m\u001b[43mget_host_creds\u001b[49m\u001b[43m(\u001b[49m\u001b[43m)\u001b[49m\u001b[43m,\u001b[49m\u001b[43m \u001b[49m\u001b[43mendpoint\u001b[49m\u001b[43m,\u001b[49m\u001b[43m \u001b[49m\u001b[43mmethod\u001b[49m\u001b[43m,\u001b[49m\u001b[43m \u001b[49m\u001b[43mjson_body\u001b[49m\u001b[43m,\u001b[49m\u001b[43m \u001b[49m\u001b[43mresponse_proto\u001b[49m\u001b[43m,\u001b[49m\u001b[43m \u001b[49m\u001b[43mextra_headers\u001b[49m\n\u001b[1;32m     46\u001b[0m \u001b[43m    \u001b[49m\u001b[43m)\u001b[49m\n",
      "File \u001b[0;32m/opt/conda/lib/python3.10/site-packages/mlflow/utils/rest_utils.py:370\u001b[0m, in \u001b[0;36mcall_endpoint\u001b[0;34m(host_creds, endpoint, method, json_body, response_proto, extra_headers)\u001b[0m\n\u001b[1;32m    367\u001b[0m     call_kwargs[\u001b[38;5;124m\"\u001b[39m\u001b[38;5;124mjson\u001b[39m\u001b[38;5;124m\"\u001b[39m] \u001b[38;5;241m=\u001b[39m json_body\n\u001b[1;32m    368\u001b[0m     response \u001b[38;5;241m=\u001b[39m http_request(\u001b[38;5;241m*\u001b[39m\u001b[38;5;241m*\u001b[39mcall_kwargs)\n\u001b[0;32m--> 370\u001b[0m response \u001b[38;5;241m=\u001b[39m \u001b[43mverify_rest_response\u001b[49m\u001b[43m(\u001b[49m\u001b[43mresponse\u001b[49m\u001b[43m,\u001b[49m\u001b[43m \u001b[49m\u001b[43mendpoint\u001b[49m\u001b[43m)\u001b[49m\n\u001b[1;32m    371\u001b[0m response_to_parse \u001b[38;5;241m=\u001b[39m response\u001b[38;5;241m.\u001b[39mtext\n\u001b[1;32m    372\u001b[0m js_dict \u001b[38;5;241m=\u001b[39m json\u001b[38;5;241m.\u001b[39mloads(response_to_parse)\n",
      "File \u001b[0;32m/opt/conda/lib/python3.10/site-packages/mlflow/utils/rest_utils.py:240\u001b[0m, in \u001b[0;36mverify_rest_response\u001b[0;34m(response, endpoint)\u001b[0m\n\u001b[1;32m    238\u001b[0m \u001b[38;5;28;01mif\u001b[39;00m response\u001b[38;5;241m.\u001b[39mstatus_code \u001b[38;5;241m!=\u001b[39m \u001b[38;5;241m200\u001b[39m:\n\u001b[1;32m    239\u001b[0m     \u001b[38;5;28;01mif\u001b[39;00m _can_parse_as_json_object(response\u001b[38;5;241m.\u001b[39mtext):\n\u001b[0;32m--> 240\u001b[0m         \u001b[38;5;28;01mraise\u001b[39;00m RestException(json\u001b[38;5;241m.\u001b[39mloads(response\u001b[38;5;241m.\u001b[39mtext))\n\u001b[1;32m    241\u001b[0m     \u001b[38;5;28;01melse\u001b[39;00m:\n\u001b[1;32m    242\u001b[0m         base_msg \u001b[38;5;241m=\u001b[39m (\n\u001b[1;32m    243\u001b[0m             \u001b[38;5;124mf\u001b[39m\u001b[38;5;124m\"\u001b[39m\u001b[38;5;124mAPI request to endpoint \u001b[39m\u001b[38;5;132;01m{\u001b[39;00mendpoint\u001b[38;5;132;01m}\u001b[39;00m\u001b[38;5;124m \u001b[39m\u001b[38;5;124m\"\u001b[39m\n\u001b[1;32m    244\u001b[0m             \u001b[38;5;124mf\u001b[39m\u001b[38;5;124m\"\u001b[39m\u001b[38;5;124mfailed with error code \u001b[39m\u001b[38;5;132;01m{\u001b[39;00mresponse\u001b[38;5;241m.\u001b[39mstatus_code\u001b[38;5;132;01m}\u001b[39;00m\u001b[38;5;124m != 200\u001b[39m\u001b[38;5;124m\"\u001b[39m\n\u001b[1;32m    245\u001b[0m         )\n",
      "\u001b[0;31mRestException\u001b[0m: INVALID_PARAMETER_VALUE: Missing value for required parameter 'source'. See the API docs for more information about request parameters."
     ]
    }
   ],
   "source": [
    "import mlflow\n",
    "\n",
    "# Initialize MLFlow client\n",
    "client = mlflow.tracking.MlflowClient()\n",
    "\n",
    "\n",
    "# Register the model with a name, linking to the external model URI\n",
    "model_details = client.create_registered_model(name=\"Shell1\")\n",
    "\n",
    "# Create a new version of the registered model pointing to the external URI\n",
    "client.create_model_version(name=\"Shell1\", source='', run_id=None)\n",
    "\n",
    "print(f\"Model version registered: {model_details}\")"
   ]
  },
  {
   "cell_type": "code",
   "execution_count": 2,
   "id": "430c5182",
   "metadata": {},
   "outputs": [
    {
     "name": "stderr",
     "output_type": "stream",
     "text": [
      "Successfully registered model 'EmptyModel'.\n",
      "2025/01/22 14:03:22 INFO mlflow.store.model_registry.abstract_store: Waiting up to 300 seconds for model version to finish creation. Model name: EmptyModel, version 1\n",
      "Created version '1' of model 'EmptyModel'.\n",
      "2025/01/22 14:03:22 INFO mlflow.tracking._tracking_service.client: 🏃 View run orderly-loon-48 at: http://127.0.0.1:8768/#/experiments/17/runs/0812d1f5bc354259a607efb67034cded.\n",
      "2025/01/22 14:03:22 INFO mlflow.tracking._tracking_service.client: 🧪 View experiment at: http://127.0.0.1:8768/#/experiments/17.\n"
     ]
    },
    {
     "name": "stdout",
     "output_type": "stream",
     "text": [
      "Empty model registered successfully.\n"
     ]
    }
   ],
   "source": [
    "import os\n",
    "import mlflow\n",
    "\n",
    "# Directory where the empty model file will be created\n",
    "model_dir = \"empty_model\"\n",
    "os.makedirs(model_dir, exist_ok=True)\n",
    "\n",
    "# Path to the empty model file\n",
    "empty_model_file_path = os.path.join(model_dir, \"empty_model.txt\")\n",
    "\n",
    "# Create an empty file\n",
    "with open(empty_model_file_path, 'w') as f:\n",
    "    f.write(\"\")  # Write nothing to create an empty file\n",
    "\n",
    "# Start an MLFlow run\n",
    "with mlflow.start_run() as run:\n",
    "    # Log the empty model file as an artifact\n",
    "    mlflow.log_artifact(empty_model_file_path, artifact_path=\"model\")\n",
    "\n",
    "    # Register the model\n",
    "    model_uri = f\"runs:/{run.info.run_id}/model\"\n",
    "    mlflow.register_model(model_uri=model_uri, name=\"EmptyModel\")\n",
    "\n",
    "print(\"Empty model registered successfully.\")"
   ]
  },
  {
   "cell_type": "code",
   "execution_count": 5,
   "id": "386e229c",
   "metadata": {},
   "outputs": [],
   "source": [
    "#\n",
    "# Register ChatGPT endpoint\n",
    "#\n",
    "\n",
    "import mlflow.pyfunc\n",
    "import requests\n",
    "\n",
    "import pandas as pd\n",
    "import requests\n",
    "import mlflow.pyfunc\n",
    "\n",
    "# Define the endpoint details\n",
    "endpoint_url = \"https://api.openai.com/v1/chat/completions\"\n",
    "api_key = os.environ['OPENAI_API_KEY']  #\"<your_openai_api_key>\"\n",
    "\n",
    "\n",
    "class ChatGPTModelWrapper(mlflow.pyfunc.PythonModel):\n",
    "    def __init__(self, endpoint_url, api_key):\n",
    "        self.endpoint_url = endpoint_url\n",
    "        self.api_key = api_key\n",
    "\n",
    "    def predict(self, context, model_input):\n",
    "        # Convert input to a list of strings (assumes DataFrame or Series input)\n",
    "        if isinstance(model_input, pd.DataFrame):\n",
    "            messages = model_input.iloc[:, 0].tolist()\n",
    "        elif isinstance(model_input, pd.Series):\n",
    "            messages = model_input.tolist()\n",
    "        elif isinstance(model_input, list):\n",
    "            messages = model_input\n",
    "        else:\n",
    "            raise ValueError(\"Unsupported input format for model_input\")\n",
    "\n",
    "        headers = {\n",
    "            \"Authorization\": f\"Bearer {self.api_key}\",\n",
    "            \"Content-Type\": \"application/json\",\n",
    "        }\n",
    "        payload = {\n",
    "            \"model\": \"gpt-4\",\n",
    "            \"messages\": [{\"role\": \"user\", \"content\": message} for message in messages],\n",
    "        }\n",
    "        response = requests.post(self.endpoint_url, headers=headers, json=payload)\n",
    "        \n",
    "        # Raise an error for bad HTTP responses\n",
    "        response.raise_for_status()\n",
    "\n",
    "        # Extract the API response\n",
    "        return [choice[\"message\"][\"content\"] for choice in response.json()[\"choices\"]]"
   ]
  },
  {
   "cell_type": "code",
   "execution_count": 6,
   "id": "0fe65edd",
   "metadata": {},
   "outputs": [
    {
     "ename": "MlflowException",
     "evalue": "Path 'chatgpt_model' already exists and is not empty",
     "output_type": "error",
     "traceback": [
      "\u001b[0;31m---------------------------------------------------------------------------\u001b[0m",
      "\u001b[0;31mMlflowException\u001b[0m                           Traceback (most recent call last)",
      "Cell \u001b[0;32mIn[6], line 3\u001b[0m\n\u001b[1;32m      1\u001b[0m \u001b[38;5;66;03m# Save the wrapped model to a local directory\u001b[39;00m\n\u001b[1;32m      2\u001b[0m model_path \u001b[38;5;241m=\u001b[39m \u001b[38;5;124m\"\u001b[39m\u001b[38;5;124mchatgpt_model\u001b[39m\u001b[38;5;124m\"\u001b[39m\n\u001b[0;32m----> 3\u001b[0m \u001b[43mmlflow\u001b[49m\u001b[38;5;241;43m.\u001b[39;49m\u001b[43mpyfunc\u001b[49m\u001b[38;5;241;43m.\u001b[39;49m\u001b[43msave_model\u001b[49m\u001b[43m(\u001b[49m\n\u001b[1;32m      4\u001b[0m \u001b[43m    \u001b[49m\u001b[43mpath\u001b[49m\u001b[38;5;241;43m=\u001b[39;49m\u001b[43mmodel_path\u001b[49m\u001b[43m,\u001b[49m\n\u001b[1;32m      5\u001b[0m \u001b[43m    \u001b[49m\u001b[43mpython_model\u001b[49m\u001b[38;5;241;43m=\u001b[39;49m\u001b[43mChatGPTModelWrapper\u001b[49m\u001b[43m(\u001b[49m\u001b[43mendpoint_url\u001b[49m\u001b[43m,\u001b[49m\u001b[43m \u001b[49m\u001b[43mapi_key\u001b[49m\u001b[43m)\u001b[49m\u001b[43m,\u001b[49m\n\u001b[1;32m      6\u001b[0m \u001b[43m)\u001b[49m\n",
      "File \u001b[0;32m/opt/conda/lib/python3.10/site-packages/mlflow/tracing/provider.py:268\u001b[0m, in \u001b[0;36mtrace_disabled.<locals>.wrapper\u001b[0;34m(*args, **kwargs)\u001b[0m\n\u001b[1;32m    266\u001b[0m disable()\n\u001b[1;32m    267\u001b[0m \u001b[38;5;28;01mtry\u001b[39;00m:\n\u001b[0;32m--> 268\u001b[0m     is_func_called, result \u001b[38;5;241m=\u001b[39m \u001b[38;5;28;01mTrue\u001b[39;00m, \u001b[43mf\u001b[49m\u001b[43m(\u001b[49m\u001b[38;5;241;43m*\u001b[39;49m\u001b[43margs\u001b[49m\u001b[43m,\u001b[49m\u001b[43m \u001b[49m\u001b[38;5;241;43m*\u001b[39;49m\u001b[38;5;241;43m*\u001b[39;49m\u001b[43mkwargs\u001b[49m\u001b[43m)\u001b[49m\n\u001b[1;32m    269\u001b[0m \u001b[38;5;28;01mfinally\u001b[39;00m:\n\u001b[1;32m    270\u001b[0m     enable()\n",
      "File \u001b[0;32m/opt/conda/lib/python3.10/site-packages/mlflow/pyfunc/__init__.py:2430\u001b[0m, in \u001b[0;36msave_model\u001b[0;34m(path, loader_module, data_path, code_path, code_paths, infer_code_paths, conda_env, mlflow_model, python_model, artifacts, signature, input_example, pip_requirements, extra_pip_requirements, metadata, model_config, example_no_conversion, streamable, resources, **kwargs)\u001b[0m\n\u001b[1;32m   2428\u001b[0m _validate_env_arguments(conda_env, pip_requirements, extra_pip_requirements)\n\u001b[1;32m   2429\u001b[0m _validate_pyfunc_model_config(model_config)\n\u001b[0;32m-> 2430\u001b[0m \u001b[43m_validate_and_prepare_target_save_path\u001b[49m\u001b[43m(\u001b[49m\u001b[43mpath\u001b[49m\u001b[43m)\u001b[49m\n\u001b[1;32m   2432\u001b[0m \u001b[38;5;28;01mwith\u001b[39;00m tempfile\u001b[38;5;241m.\u001b[39mTemporaryDirectory() \u001b[38;5;28;01mas\u001b[39;00m temp_dir:\n\u001b[1;32m   2433\u001b[0m     model_code_path \u001b[38;5;241m=\u001b[39m \u001b[38;5;28;01mNone\u001b[39;00m\n",
      "File \u001b[0;32m/opt/conda/lib/python3.10/site-packages/mlflow/utils/model_utils.py:267\u001b[0m, in \u001b[0;36m_validate_and_prepare_target_save_path\u001b[0;34m(path)\u001b[0m\n\u001b[1;32m    265\u001b[0m \u001b[38;5;28;01mdef\u001b[39;00m \u001b[38;5;21m_validate_and_prepare_target_save_path\u001b[39m(path):\n\u001b[1;32m    266\u001b[0m     \u001b[38;5;28;01mif\u001b[39;00m os\u001b[38;5;241m.\u001b[39mpath\u001b[38;5;241m.\u001b[39mexists(path) \u001b[38;5;129;01mand\u001b[39;00m \u001b[38;5;28many\u001b[39m(os\u001b[38;5;241m.\u001b[39mscandir(path)):\n\u001b[0;32m--> 267\u001b[0m         \u001b[38;5;28;01mraise\u001b[39;00m MlflowException(\n\u001b[1;32m    268\u001b[0m             message\u001b[38;5;241m=\u001b[39m\u001b[38;5;124mf\u001b[39m\u001b[38;5;124m\"\u001b[39m\u001b[38;5;124mPath \u001b[39m\u001b[38;5;124m'\u001b[39m\u001b[38;5;132;01m{\u001b[39;00mpath\u001b[38;5;132;01m}\u001b[39;00m\u001b[38;5;124m'\u001b[39m\u001b[38;5;124m already exists and is not empty\u001b[39m\u001b[38;5;124m\"\u001b[39m,\n\u001b[1;32m    269\u001b[0m             error_code\u001b[38;5;241m=\u001b[39mRESOURCE_ALREADY_EXISTS,\n\u001b[1;32m    270\u001b[0m         )\n\u001b[1;32m    272\u001b[0m     os\u001b[38;5;241m.\u001b[39mmakedirs(path, exist_ok\u001b[38;5;241m=\u001b[39m\u001b[38;5;28;01mTrue\u001b[39;00m)\n",
      "\u001b[0;31mMlflowException\u001b[0m: Path 'chatgpt_model' already exists and is not empty"
     ]
    }
   ],
   "source": [
    "# Save the wrapped model to a local directory\n",
    "model_path = \"chatgpt_model\"\n",
    "mlflow.pyfunc.save_model(\n",
    "    path=model_path,\n",
    "    python_model=ChatGPTModelWrapper(endpoint_url, api_key),\n",
    ")"
   ]
  },
  {
   "cell_type": "code",
   "execution_count": 7,
   "id": "b19138d3",
   "metadata": {},
   "outputs": [
    {
     "name": "stderr",
     "output_type": "stream",
     "text": [
      "2025/01/22 14:06:15 WARNING mlflow.models.model: Model logged without a signature and input example. Please set `input_example` parameter when logging the model to auto infer the model signature.\n",
      "Successfully registered model 'ChatGPT_Model'.\n",
      "2025/01/22 14:06:16 INFO mlflow.store.model_registry.abstract_store: Waiting up to 300 seconds for model version to finish creation. Model name: ChatGPT_Model, version 1\n",
      "Created version '1' of model 'ChatGPT_Model'.\n",
      "2025/01/22 14:06:16 INFO mlflow.tracking._tracking_service.client: 🏃 View run incongruous-worm-774 at: http://127.0.0.1:8768/#/experiments/17/runs/b991956fa5494d54914124f1cbe9315d.\n",
      "2025/01/22 14:06:16 INFO mlflow.tracking._tracking_service.client: 🧪 View experiment at: http://127.0.0.1:8768/#/experiments/17.\n"
     ]
    }
   ],
   "source": [
    "# Log and register the model\n",
    "with mlflow.start_run() as run:\n",
    "    mlflow.pyfunc.log_model(\n",
    "        artifact_path=\"chatgpt_model\",\n",
    "        python_model=ChatGPTModelWrapper(endpoint_url, api_key),\n",
    "        registered_model_name=\"ChatGPT_Model\",\n",
    "    )"
   ]
  },
  {
   "cell_type": "code",
   "execution_count": 8,
   "id": "902bfd29",
   "metadata": {},
   "outputs": [
    {
     "name": "stderr",
     "output_type": "stream",
     "text": [
      "/opt/conda/lib/python3.10/site-packages/mlflow/store/artifact/utils/models.py:31: FutureWarning: ``mlflow.tracking.client.MlflowClient.get_latest_versions`` is deprecated since 2.9.0. Model registry stages will be removed in a future major release. To learn more about the deprecation of model registry stages, see our migration guide here: https://mlflow.org/docs/latest/model-registry.html#migrating-from-stages\n",
      "  latest = client.get_latest_versions(name, None if stage is None else [stage])\n"
     ]
    },
    {
     "data": {
      "application/vnd.jupyter.widget-view+json": {
       "model_id": "a89d08dd93e84ca69d3c1541c9ffdb92",
       "version_major": 2,
       "version_minor": 0
      },
      "text/plain": [
       "Downloading artifacts:   0%|          | 0/5 [00:00<?, ?it/s]"
      ]
     },
     "metadata": {},
     "output_type": "display_data"
    },
    {
     "name": "stdout",
     "output_type": "stream",
     "text": [
      "[\"As an artificial intelligence, I don't have feelings, but I'm here and ready to assist you. How can I help you today?\"]\n"
     ]
    }
   ],
   "source": [
    "import mlflow.pyfunc\n",
    "import pandas as pd\n",
    "\n",
    "# Load the registered model\n",
    "model = mlflow.pyfunc.load_model(\"models:/ChatGPT_Model/latest\")\n",
    "\n",
    "# Test predictions\n",
    "input_data = pd.DataFrame([\"Hello, how are you?\"], columns=[\"prompt\"])\n",
    "result = model.predict(input_data)\n",
    "print(result)"
   ]
  },
  {
   "cell_type": "code",
   "execution_count": null,
   "id": "9450d440-18f7-4ccc-9970-a34fbcb55db6",
   "metadata": {},
   "outputs": [],
   "source": []
  }
 ],
 "metadata": {
  "kernelspec": {
   "display_name": "Python 3 (ipykernel)",
   "language": "python",
   "name": "python3"
  },
  "language_info": {
   "codemirror_mode": {
    "name": "ipython",
    "version": 3
   },
   "file_extension": ".py",
   "mimetype": "text/x-python",
   "name": "python",
   "nbconvert_exporter": "python",
   "pygments_lexer": "ipython3",
   "version": "3.10.14"
  }
 },
 "nbformat": 4,
 "nbformat_minor": 5
}
