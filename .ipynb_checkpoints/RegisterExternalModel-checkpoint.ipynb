{
 "cells": [
  {
   "cell_type": "code",
   "execution_count": 1,
   "id": "7260ea3d",
   "metadata": {},
   "outputs": [
    {
     "name": "stderr",
     "output_type": "stream",
     "text": [
      "2024/10/14 12:53:35 INFO mlflow.store.model_registry.abstract_store: Waiting up to 300 seconds for model version to finish creation. Model name: ExternalModel, version 1\n"
     ]
    },
    {
     "name": "stdout",
     "output_type": "stream",
     "text": [
      "Model version registered: <RegisteredModel: aliases={}, creation_timestamp=1728910415208, description='', last_updated_timestamp=1728910415208, latest_versions=[], name='ExternalModel', tags={'mlflow.domino.dataset_info': '67037c6567037a343ab8b95a-67037c6567037a343ab8b959',\n",
      " 'mlflow.domino.environment_id': '66d0bc8f8c8ab661269a8f42',\n",
      " 'mlflow.domino.environment_revision_id': '66d0bc8f8c8ab661269a8f44',\n",
      " 'mlflow.domino.hardware_tier': 'small-k8s',\n",
      " 'mlflow.domino.project_id': '67037c6167037a343ab8b953',\n",
      " 'mlflow.domino.project_name': 'ExternalModel',\n",
      " 'mlflow.domino.provenance_checkpoint_id': '670d142811d05f656b656aea',\n",
      " 'mlflow.domino.run_id': '670d136f11d05f656b656ae2',\n",
      " 'mlflow.domino.run_number': '4',\n",
      " 'mlflow.domino.user': 'integration-test',\n",
      " 'mlflow.domino.user_id': '66d0bc00a14e7c9cc1e3a3e2',\n",
      " 'mlflow.source.git.branch': 'main',\n",
      " 'mlflow.source.git.commit': 'bd10a8f7012e582a95213b1edd25e31ef2e9b7dc',\n",
      " 'mlflow.source.type': 'NOTEBOOK',\n",
      " 'mlflow.user': 'integration-test'}>\n"
     ]
    }
   ],
   "source": [
    "import mlflow\n",
    "\n",
    "# Initialize MLFlow client\n",
    "client = mlflow.tracking.MlflowClient()\n",
    "\n",
    "# External model URI (for example, on AWS S3 or another location)\n",
    "external_model_uri = \"s3://my-bucket/my-model\"\n",
    "\n",
    "# Register the model with a name, linking to the external model URI\n",
    "model_details = client.create_registered_model(name=\"ExternalModel\")\n",
    "\n",
    "# Create a new version of the registered model pointing to the external URI\n",
    "client.create_model_version(name=\"ExternalModel\", source=external_model_uri, run_id=None)\n",
    "\n",
    "print(f\"Model version registered: {model_details}\")"
   ]
  },
  {
   "cell_type": "code",
   "execution_count": null,
   "id": "51da2bd6",
   "metadata": {},
   "outputs": [],
   "source": []
  }
 ],
 "metadata": {
  "kernelspec": {
   "display_name": "Python 3 (ipykernel)",
   "language": "python",
   "name": "python3"
  },
  "language_info": {
   "codemirror_mode": {
    "name": "ipython",
    "version": 3
   },
   "file_extension": ".py",
   "mimetype": "text/x-python",
   "name": "python",
   "nbconvert_exporter": "python",
   "pygments_lexer": "ipython3",
   "version": "3.10.14"
  }
 },
 "nbformat": 4,
 "nbformat_minor": 5
}
